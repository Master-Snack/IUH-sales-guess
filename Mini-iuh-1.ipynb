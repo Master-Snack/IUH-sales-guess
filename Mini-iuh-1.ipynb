{
 "cells": [
  {
   "cell_type": "code",
   "execution_count": 68,
   "metadata": {},
   "outputs": [],
   "source": [
    "import pandas as pd\n",
    "import numpy as np\n",
    "import matplotlib.pyplot as plt"
   ]
  },
  {
   "cell_type": "code",
   "execution_count": 69,
   "metadata": {},
   "outputs": [
    {
     "data": {
      "text/html": [
       "<div>\n",
       "<style scoped>\n",
       "    .dataframe tbody tr th:only-of-type {\n",
       "        vertical-align: middle;\n",
       "    }\n",
       "\n",
       "    .dataframe tbody tr th {\n",
       "        vertical-align: top;\n",
       "    }\n",
       "\n",
       "    .dataframe thead th {\n",
       "        text-align: right;\n",
       "    }\n",
       "</style>\n",
       "<table border=\"1\" class=\"dataframe\">\n",
       "  <thead>\n",
       "    <tr style=\"text-align: right;\">\n",
       "      <th></th>\n",
       "      <th>datetime</th>\n",
       "      <th>sales_mobile</th>\n",
       "      <th>sales_fashion</th>\n",
       "      <th>sales_groceries</th>\n",
       "      <th>Unnamed: 4</th>\n",
       "    </tr>\n",
       "  </thead>\n",
       "  <tbody>\n",
       "    <tr>\n",
       "      <th>0</th>\n",
       "      <td>5/1/20</td>\n",
       "      <td>31.0</td>\n",
       "      <td>18.0</td>\n",
       "      <td>13.0</td>\n",
       "      <td>NaN</td>\n",
       "    </tr>\n",
       "    <tr>\n",
       "      <th>1</th>\n",
       "      <td>5/2/20</td>\n",
       "      <td>65.0</td>\n",
       "      <td>42.0</td>\n",
       "      <td>9.0</td>\n",
       "      <td>NaN</td>\n",
       "    </tr>\n",
       "    <tr>\n",
       "      <th>2</th>\n",
       "      <td>5/3/20</td>\n",
       "      <td>90.0</td>\n",
       "      <td>29.0</td>\n",
       "      <td>19.0</td>\n",
       "      <td>NaN</td>\n",
       "    </tr>\n",
       "    <tr>\n",
       "      <th>3</th>\n",
       "      <td>5/4/20</td>\n",
       "      <td>31.0</td>\n",
       "      <td>48.0</td>\n",
       "      <td>18.0</td>\n",
       "      <td>NaN</td>\n",
       "    </tr>\n",
       "    <tr>\n",
       "      <th>4</th>\n",
       "      <td>5/5/20</td>\n",
       "      <td>72.0</td>\n",
       "      <td>22.0</td>\n",
       "      <td>19.0</td>\n",
       "      <td>NaN</td>\n",
       "    </tr>\n",
       "  </tbody>\n",
       "</table>\n",
       "</div>"
      ],
      "text/plain": [
       "  datetime  sales_mobile  sales_fashion  sales_groceries  Unnamed: 4\n",
       "0   5/1/20          31.0           18.0             13.0         NaN\n",
       "1   5/2/20          65.0           42.0              9.0         NaN\n",
       "2   5/3/20          90.0           29.0             19.0         NaN\n",
       "3   5/4/20          31.0           48.0             18.0         NaN\n",
       "4   5/5/20          72.0           22.0             19.0         NaN"
      ]
     },
     "execution_count": 69,
     "metadata": {},
     "output_type": "execute_result"
    }
   ],
   "source": [
    "df = pd.read_csv(\"IUH - sample_01.csv\")\n",
    "df.head()"
   ]
  },
  {
   "cell_type": "code",
   "execution_count": 70,
   "metadata": {},
   "outputs": [
    {
     "name": "stdout",
     "output_type": "stream",
     "text": [
      "<class 'pandas.core.frame.DataFrame'>\n",
      "RangeIndex: 64 entries, 0 to 63\n",
      "Data columns (total 5 columns):\n",
      " #   Column           Non-Null Count  Dtype  \n",
      "---  ------           --------------  -----  \n",
      " 0   datetime         31 non-null     object \n",
      " 1   sales_mobile     31 non-null     float64\n",
      " 2   sales_fashion    31 non-null     float64\n",
      " 3   sales_groceries  31 non-null     float64\n",
      " 4   Unnamed: 4       0 non-null      float64\n",
      "dtypes: float64(4), object(1)\n",
      "memory usage: 2.6+ KB\n"
     ]
    }
   ],
   "source": [
    "df.info()"
   ]
  },
  {
   "cell_type": "code",
   "execution_count": 71,
   "metadata": {},
   "outputs": [
    {
     "data": {
      "text/plain": [
       "<matplotlib.axes._subplots.AxesSubplot at 0x3b467c8>"
      ]
     },
     "execution_count": 71,
     "metadata": {},
     "output_type": "execute_result"
    },
    {
     "data": {
      "image/png": "[encoded data removed]",
      "text/plain": [
       "<Figure size 432x288 with 1 Axes>"
      ]
     },
     "metadata": {
      "needs_background": "light"
     },
     "output_type": "display_data"
    }
   ],
   "source": [
    "# thống kê biểu đồ cột cho doanh thu từng sản phẩm\n",
    "df.sales_mobile.plot.hist()"
   ]
  },
  {
   "cell_type": "code",
   "execution_count": 72,
   "metadata": {},
   "outputs": [],
   "source": [
    "df = pd.read_csv(\"IUH - sample_01.csv\", \n",
    "                 low_memory = False,\n",
    "                 parse_dates = [\"datetime\"])"
   ]
  },
  {
   "cell_type": "code",
   "execution_count": 73,
   "metadata": {},
   "outputs": [
    {
     "data": {
      "text/html": [
       "<div>\n",
       "<style scoped>\n",
       "    .dataframe tbody tr th:only-of-type {\n",
       "        vertical-align: middle;\n",
       "    }\n",
       "\n",
       "    .dataframe tbody tr th {\n",
       "        vertical-align: top;\n",
       "    }\n",
       "\n",
       "    .dataframe thead th {\n",
       "        text-align: right;\n",
       "    }\n",
       "</style>\n",
       "<table border=\"1\" class=\"dataframe\">\n",
       "  <thead>\n",
       "    <tr style=\"text-align: right;\">\n",
       "      <th></th>\n",
       "      <th>datetime</th>\n",
       "      <th>sales_mobile</th>\n",
       "      <th>sales_fashion</th>\n",
       "      <th>sales_groceries</th>\n",
       "      <th>Unnamed: 4</th>\n",
       "    </tr>\n",
       "  </thead>\n",
       "  <tbody>\n",
       "    <tr>\n",
       "      <th>0</th>\n",
       "      <td>2020-05-01</td>\n",
       "      <td>31.0</td>\n",
       "      <td>18.0</td>\n",
       "      <td>13.0</td>\n",
       "      <td>NaN</td>\n",
       "    </tr>\n",
       "    <tr>\n",
       "      <th>1</th>\n",
       "      <td>2020-05-02</td>\n",
       "      <td>65.0</td>\n",
       "      <td>42.0</td>\n",
       "      <td>9.0</td>\n",
       "      <td>NaN</td>\n",
       "    </tr>\n",
       "    <tr>\n",
       "      <th>2</th>\n",
       "      <td>2020-05-03</td>\n",
       "      <td>90.0</td>\n",
       "      <td>29.0</td>\n",
       "      <td>19.0</td>\n",
       "      <td>NaN</td>\n",
       "    </tr>\n",
       "    <tr>\n",
       "      <th>3</th>\n",
       "      <td>2020-05-04</td>\n",
       "      <td>31.0</td>\n",
       "      <td>48.0</td>\n",
       "      <td>18.0</td>\n",
       "      <td>NaN</td>\n",
       "    </tr>\n",
       "    <tr>\n",
       "      <th>4</th>\n",
       "      <td>2020-05-05</td>\n",
       "      <td>72.0</td>\n",
       "      <td>22.0</td>\n",
       "      <td>19.0</td>\n",
       "      <td>NaN</td>\n",
       "    </tr>\n",
       "    <tr>\n",
       "      <th>...</th>\n",
       "      <td>...</td>\n",
       "      <td>...</td>\n",
       "      <td>...</td>\n",
       "      <td>...</td>\n",
       "      <td>...</td>\n",
       "    </tr>\n",
       "    <tr>\n",
       "      <th>59</th>\n",
       "      <td>NaT</td>\n",
       "      <td>NaN</td>\n",
       "      <td>NaN</td>\n",
       "      <td>NaN</td>\n",
       "      <td>NaN</td>\n",
       "    </tr>\n",
       "    <tr>\n",
       "      <th>60</th>\n",
       "      <td>NaT</td>\n",
       "      <td>NaN</td>\n",
       "      <td>NaN</td>\n",
       "      <td>NaN</td>\n",
       "      <td>NaN</td>\n",
       "    </tr>\n",
       "    <tr>\n",
       "      <th>61</th>\n",
       "      <td>NaT</td>\n",
       "      <td>NaN</td>\n",
       "      <td>NaN</td>\n",
       "      <td>NaN</td>\n",
       "      <td>NaN</td>\n",
       "    </tr>\n",
       "    <tr>\n",
       "      <th>62</th>\n",
       "      <td>NaT</td>\n",
       "      <td>NaN</td>\n",
       "      <td>NaN</td>\n",
       "      <td>NaN</td>\n",
       "      <td>NaN</td>\n",
       "    </tr>\n",
       "    <tr>\n",
       "      <th>63</th>\n",
       "      <td>NaT</td>\n",
       "      <td>NaN</td>\n",
       "      <td>NaN</td>\n",
       "      <td>NaN</td>\n",
       "      <td>NaN</td>\n",
       "    </tr>\n",
       "  </tbody>\n",
       "</table>\n",
       "<p>64 rows × 5 columns</p>\n",
       "</div>"
      ],
      "text/plain": [
       "     datetime  sales_mobile  sales_fashion  sales_groceries  Unnamed: 4\n",
       "0  2020-05-01          31.0           18.0             13.0         NaN\n",
       "1  2020-05-02          65.0           42.0              9.0         NaN\n",
       "2  2020-05-03          90.0           29.0             19.0         NaN\n",
       "3  2020-05-04          31.0           48.0             18.0         NaN\n",
       "4  2020-05-05          72.0           22.0             19.0         NaN\n",
       "..        ...           ...            ...              ...         ...\n",
       "59        NaT           NaN            NaN              NaN         NaN\n",
       "60        NaT           NaN            NaN              NaN         NaN\n",
       "61        NaT           NaN            NaN              NaN         NaN\n",
       "62        NaT           NaN            NaN              NaN         NaN\n",
       "63        NaT           NaN            NaN              NaN         NaN\n",
       "\n",
       "[64 rows x 5 columns]"
      ]
     },
     "execution_count": 73,
     "metadata": {},
     "output_type": "execute_result"
    }
   ],
   "source": [
    "df"
   ]
  },
  {
   "cell_type": "code",
   "execution_count": 74,
   "metadata": {},
   "outputs": [
    {
     "name": "stdout",
     "output_type": "stream",
     "text": [
      "<class 'pandas.core.frame.DataFrame'>\n",
      "RangeIndex: 64 entries, 0 to 63\n",
      "Data columns (total 5 columns):\n",
      " #   Column           Non-Null Count  Dtype         \n",
      "---  ------           --------------  -----         \n",
      " 0   datetime         31 non-null     datetime64[ns]\n",
      " 1   sales_mobile     31 non-null     float64       \n",
      " 2   sales_fashion    31 non-null     float64       \n",
      " 3   sales_groceries  31 non-null     float64       \n",
      " 4   Unnamed: 4       0 non-null      float64       \n",
      "dtypes: datetime64[ns](1), float64(4)\n",
      "memory usage: 2.6 KB\n"
     ]
    }
   ],
   "source": [
    "df.info()"
   ]
  },
  {
   "cell_type": "code",
   "execution_count": 75,
   "metadata": {},
   "outputs": [
    {
     "data": {
      "text/html": [
       "<div>\n",
       "<style scoped>\n",
       "    .dataframe tbody tr th:only-of-type {\n",
       "        vertical-align: middle;\n",
       "    }\n",
       "\n",
       "    .dataframe tbody tr th {\n",
       "        vertical-align: top;\n",
       "    }\n",
       "\n",
       "    .dataframe thead th {\n",
       "        text-align: right;\n",
       "    }\n",
       "</style>\n",
       "<table border=\"1\" class=\"dataframe\">\n",
       "  <thead>\n",
       "    <tr style=\"text-align: right;\">\n",
       "      <th></th>\n",
       "      <th>datetime</th>\n",
       "      <th>sales_mobile</th>\n",
       "      <th>sales_fashion</th>\n",
       "      <th>sales_groceries</th>\n",
       "      <th>Unnamed: 4</th>\n",
       "    </tr>\n",
       "  </thead>\n",
       "  <tbody>\n",
       "    <tr>\n",
       "      <th>0</th>\n",
       "      <td>2020-05-01</td>\n",
       "      <td>31.0</td>\n",
       "      <td>18.0</td>\n",
       "      <td>13.0</td>\n",
       "      <td>NaN</td>\n",
       "    </tr>\n",
       "    <tr>\n",
       "      <th>1</th>\n",
       "      <td>2020-05-02</td>\n",
       "      <td>65.0</td>\n",
       "      <td>42.0</td>\n",
       "      <td>9.0</td>\n",
       "      <td>NaN</td>\n",
       "    </tr>\n",
       "    <tr>\n",
       "      <th>2</th>\n",
       "      <td>2020-05-03</td>\n",
       "      <td>90.0</td>\n",
       "      <td>29.0</td>\n",
       "      <td>19.0</td>\n",
       "      <td>NaN</td>\n",
       "    </tr>\n",
       "    <tr>\n",
       "      <th>3</th>\n",
       "      <td>2020-05-04</td>\n",
       "      <td>31.0</td>\n",
       "      <td>48.0</td>\n",
       "      <td>18.0</td>\n",
       "      <td>NaN</td>\n",
       "    </tr>\n",
       "    <tr>\n",
       "      <th>4</th>\n",
       "      <td>2020-05-05</td>\n",
       "      <td>72.0</td>\n",
       "      <td>22.0</td>\n",
       "      <td>19.0</td>\n",
       "      <td>NaN</td>\n",
       "    </tr>\n",
       "    <tr>\n",
       "      <th>...</th>\n",
       "      <td>...</td>\n",
       "      <td>...</td>\n",
       "      <td>...</td>\n",
       "      <td>...</td>\n",
       "      <td>...</td>\n",
       "    </tr>\n",
       "    <tr>\n",
       "      <th>59</th>\n",
       "      <td>NaT</td>\n",
       "      <td>NaN</td>\n",
       "      <td>NaN</td>\n",
       "      <td>NaN</td>\n",
       "      <td>NaN</td>\n",
       "    </tr>\n",
       "    <tr>\n",
       "      <th>60</th>\n",
       "      <td>NaT</td>\n",
       "      <td>NaN</td>\n",
       "      <td>NaN</td>\n",
       "      <td>NaN</td>\n",
       "      <td>NaN</td>\n",
       "    </tr>\n",
       "    <tr>\n",
       "      <th>61</th>\n",
       "      <td>NaT</td>\n",
       "      <td>NaN</td>\n",
       "      <td>NaN</td>\n",
       "      <td>NaN</td>\n",
       "      <td>NaN</td>\n",
       "    </tr>\n",
       "    <tr>\n",
       "      <th>62</th>\n",
       "      <td>NaT</td>\n",
       "      <td>NaN</td>\n",
       "      <td>NaN</td>\n",
       "      <td>NaN</td>\n",
       "      <td>NaN</td>\n",
       "    </tr>\n",
       "    <tr>\n",
       "      <th>63</th>\n",
       "      <td>NaT</td>\n",
       "      <td>NaN</td>\n",
       "      <td>NaN</td>\n",
       "      <td>NaN</td>\n",
       "      <td>NaN</td>\n",
       "    </tr>\n",
       "  </tbody>\n",
       "</table>\n",
       "<p>64 rows × 5 columns</p>\n",
       "</div>"
      ],
      "text/plain": [
       "     datetime  sales_mobile  sales_fashion  sales_groceries  Unnamed: 4\n",
       "0  2020-05-01          31.0           18.0             13.0         NaN\n",
       "1  2020-05-02          65.0           42.0              9.0         NaN\n",
       "2  2020-05-03          90.0           29.0             19.0         NaN\n",
       "3  2020-05-04          31.0           48.0             18.0         NaN\n",
       "4  2020-05-05          72.0           22.0             19.0         NaN\n",
       "..        ...           ...            ...              ...         ...\n",
       "59        NaT           NaN            NaN              NaN         NaN\n",
       "60        NaT           NaN            NaN              NaN         NaN\n",
       "61        NaT           NaN            NaN              NaN         NaN\n",
       "62        NaT           NaN            NaN              NaN         NaN\n",
       "63        NaT           NaN            NaN              NaN         NaN\n",
       "\n",
       "[64 rows x 5 columns]"
      ]
     },
     "execution_count": 75,
     "metadata": {},
     "output_type": "execute_result"
    }
   ],
   "source": [
    "df"
   ]
  },
  {
   "cell_type": "code",
   "execution_count": 76,
   "metadata": {},
   "outputs": [
    {
     "data": {
      "text/html": [
       "<div>\n",
       "<style scoped>\n",
       "    .dataframe tbody tr th:only-of-type {\n",
       "        vertical-align: middle;\n",
       "    }\n",
       "\n",
       "    .dataframe tbody tr th {\n",
       "        vertical-align: top;\n",
       "    }\n",
       "\n",
       "    .dataframe thead th {\n",
       "        text-align: right;\n",
       "    }\n",
       "</style>\n",
       "<table border=\"1\" class=\"dataframe\">\n",
       "  <thead>\n",
       "    <tr style=\"text-align: right;\">\n",
       "      <th></th>\n",
       "      <th>datetime</th>\n",
       "      <th>sales_mobile</th>\n",
       "      <th>sales_fashion</th>\n",
       "      <th>sales_groceries</th>\n",
       "      <th>Unnamed: 4</th>\n",
       "    </tr>\n",
       "  </thead>\n",
       "  <tbody>\n",
       "    <tr>\n",
       "      <th>0</th>\n",
       "      <td>5/1/20</td>\n",
       "      <td>31.0</td>\n",
       "      <td>18.0</td>\n",
       "      <td>13.0</td>\n",
       "      <td>NaN</td>\n",
       "    </tr>\n",
       "    <tr>\n",
       "      <th>1</th>\n",
       "      <td>5/2/20</td>\n",
       "      <td>65.0</td>\n",
       "      <td>42.0</td>\n",
       "      <td>9.0</td>\n",
       "      <td>NaN</td>\n",
       "    </tr>\n",
       "    <tr>\n",
       "      <th>2</th>\n",
       "      <td>5/3/20</td>\n",
       "      <td>90.0</td>\n",
       "      <td>29.0</td>\n",
       "      <td>19.0</td>\n",
       "      <td>NaN</td>\n",
       "    </tr>\n",
       "    <tr>\n",
       "      <th>3</th>\n",
       "      <td>5/4/20</td>\n",
       "      <td>31.0</td>\n",
       "      <td>48.0</td>\n",
       "      <td>18.0</td>\n",
       "      <td>NaN</td>\n",
       "    </tr>\n",
       "    <tr>\n",
       "      <th>4</th>\n",
       "      <td>5/5/20</td>\n",
       "      <td>72.0</td>\n",
       "      <td>22.0</td>\n",
       "      <td>19.0</td>\n",
       "      <td>NaN</td>\n",
       "    </tr>\n",
       "  </tbody>\n",
       "</table>\n",
       "</div>"
      ],
      "text/plain": [
       "  datetime  sales_mobile  sales_fashion  sales_groceries  Unnamed: 4\n",
       "0   5/1/20          31.0           18.0             13.0         NaN\n",
       "1   5/2/20          65.0           42.0              9.0         NaN\n",
       "2   5/3/20          90.0           29.0             19.0         NaN\n",
       "3   5/4/20          31.0           48.0             18.0         NaN\n",
       "4   5/5/20          72.0           22.0             19.0         NaN"
      ]
     },
     "execution_count": 76,
     "metadata": {},
     "output_type": "execute_result"
    }
   ],
   "source": [
    "df = pd.read_csv(\"IUH - sample_01.csv\")\n",
    "df.head()"
   ]
  },
  {
   "cell_type": "code",
   "execution_count": 77,
   "metadata": {},
   "outputs": [
    {
     "data": {
      "image/png": "[encoded data removed]",
      "text/plain": [
       "<Figure size 432x288 with 1 Axes>"
      ]
     },
     "metadata": {
      "needs_background": "light"
     },
     "output_type": "display_data"
    }
   ],
   "source": [
    "df.plot(x='datetime', y='sales_mobile');"
   ]
  },
  {
   "cell_type": "code",
   "execution_count": 78,
   "metadata": {},
   "outputs": [
    {
     "data": {
      "image/png": "[encoded data removed]",
      "text/plain": [
       "<Figure size 432x288 with 1 Axes>"
      ]
     },
     "metadata": {
      "needs_background": "light"
     },
     "output_type": "display_data"
    }
   ],
   "source": [
    "df.plot(x='datetime', y='sales_fashion');"
   ]
  },
  {
   "cell_type": "code",
   "execution_count": 79,
   "metadata": {},
   "outputs": [
    {
     "data": {
      "image/png": "[encoded data removed]",
      "text/plain": [
       "<Figure size 432x288 with 1 Axes>"
      ]
     },
     "metadata": {
      "needs_background": "light"
     },
     "output_type": "display_data"
    }
   ],
   "source": [
    "df.plot(x='datetime', y='sales_groceries');"
   ]
  },
  {
   "cell_type": "code",
   "execution_count": 80,
   "metadata": {},
   "outputs": [
    {
     "data": {
      "text/html": [
       "<div>\n",
       "<style scoped>\n",
       "    .dataframe tbody tr th:only-of-type {\n",
       "        vertical-align: middle;\n",
       "    }\n",
       "\n",
       "    .dataframe tbody tr th {\n",
       "        vertical-align: top;\n",
       "    }\n",
       "\n",
       "    .dataframe thead th {\n",
       "        text-align: right;\n",
       "    }\n",
       "</style>\n",
       "<table border=\"1\" class=\"dataframe\">\n",
       "  <thead>\n",
       "    <tr style=\"text-align: right;\">\n",
       "      <th></th>\n",
       "      <th>datetime</th>\n",
       "      <th>mobile</th>\n",
       "    </tr>\n",
       "  </thead>\n",
       "  <tbody>\n",
       "    <tr>\n",
       "      <th>0</th>\n",
       "      <td>1</td>\n",
       "      <td>31</td>\n",
       "    </tr>\n",
       "    <tr>\n",
       "      <th>1</th>\n",
       "      <td>2</td>\n",
       "      <td>65</td>\n",
       "    </tr>\n",
       "    <tr>\n",
       "      <th>2</th>\n",
       "      <td>3</td>\n",
       "      <td>9</td>\n",
       "    </tr>\n",
       "    <tr>\n",
       "      <th>3</th>\n",
       "      <td>4</td>\n",
       "      <td>31</td>\n",
       "    </tr>\n",
       "    <tr>\n",
       "      <th>4</th>\n",
       "      <td>5</td>\n",
       "      <td>72</td>\n",
       "    </tr>\n",
       "    <tr>\n",
       "      <th>5</th>\n",
       "      <td>6</td>\n",
       "      <td>37</td>\n",
       "    </tr>\n",
       "    <tr>\n",
       "      <th>6</th>\n",
       "      <td>7</td>\n",
       "      <td>37</td>\n",
       "    </tr>\n",
       "    <tr>\n",
       "      <th>7</th>\n",
       "      <td>8</td>\n",
       "      <td>29</td>\n",
       "    </tr>\n",
       "    <tr>\n",
       "      <th>8</th>\n",
       "      <td>9</td>\n",
       "      <td>77</td>\n",
       "    </tr>\n",
       "    <tr>\n",
       "      <th>9</th>\n",
       "      <td>10</td>\n",
       "      <td>84</td>\n",
       "    </tr>\n",
       "    <tr>\n",
       "      <th>10</th>\n",
       "      <td>11</td>\n",
       "      <td>55</td>\n",
       "    </tr>\n",
       "    <tr>\n",
       "      <th>11</th>\n",
       "      <td>12</td>\n",
       "      <td>55</td>\n",
       "    </tr>\n",
       "    <tr>\n",
       "      <th>12</th>\n",
       "      <td>13</td>\n",
       "      <td>74</td>\n",
       "    </tr>\n",
       "    <tr>\n",
       "      <th>13</th>\n",
       "      <td>14</td>\n",
       "      <td>26</td>\n",
       "    </tr>\n",
       "    <tr>\n",
       "      <th>14</th>\n",
       "      <td>15</td>\n",
       "      <td>38</td>\n",
       "    </tr>\n",
       "    <tr>\n",
       "      <th>15</th>\n",
       "      <td>16</td>\n",
       "      <td>38</td>\n",
       "    </tr>\n",
       "    <tr>\n",
       "      <th>16</th>\n",
       "      <td>17</td>\n",
       "      <td>44</td>\n",
       "    </tr>\n",
       "    <tr>\n",
       "      <th>17</th>\n",
       "      <td>18</td>\n",
       "      <td>71</td>\n",
       "    </tr>\n",
       "    <tr>\n",
       "      <th>18</th>\n",
       "      <td>19</td>\n",
       "      <td>59</td>\n",
       "    </tr>\n",
       "    <tr>\n",
       "      <th>19</th>\n",
       "      <td>20</td>\n",
       "      <td>35</td>\n",
       "    </tr>\n",
       "    <tr>\n",
       "      <th>20</th>\n",
       "      <td>21</td>\n",
       "      <td>47</td>\n",
       "    </tr>\n",
       "    <tr>\n",
       "      <th>21</th>\n",
       "      <td>22</td>\n",
       "      <td>29</td>\n",
       "    </tr>\n",
       "    <tr>\n",
       "      <th>22</th>\n",
       "      <td>23</td>\n",
       "      <td>53</td>\n",
       "    </tr>\n",
       "    <tr>\n",
       "      <th>23</th>\n",
       "      <td>24</td>\n",
       "      <td>57</td>\n",
       "    </tr>\n",
       "    <tr>\n",
       "      <th>24</th>\n",
       "      <td>25</td>\n",
       "      <td>37</td>\n",
       "    </tr>\n",
       "    <tr>\n",
       "      <th>25</th>\n",
       "      <td>26</td>\n",
       "      <td>32</td>\n",
       "    </tr>\n",
       "    <tr>\n",
       "      <th>26</th>\n",
       "      <td>27</td>\n",
       "      <td>63</td>\n",
       "    </tr>\n",
       "    <tr>\n",
       "      <th>27</th>\n",
       "      <td>28</td>\n",
       "      <td>41</td>\n",
       "    </tr>\n",
       "    <tr>\n",
       "      <th>28</th>\n",
       "      <td>29</td>\n",
       "      <td>25</td>\n",
       "    </tr>\n",
       "    <tr>\n",
       "      <th>29</th>\n",
       "      <td>30</td>\n",
       "      <td>61</td>\n",
       "    </tr>\n",
       "    <tr>\n",
       "      <th>30</th>\n",
       "      <td>31</td>\n",
       "      <td>28</td>\n",
       "    </tr>\n",
       "  </tbody>\n",
       "</table>\n",
       "</div>"
      ],
      "text/plain": [
       "    datetime  mobile\n",
       "0          1      31\n",
       "1          2      65\n",
       "2          3       9\n",
       "3          4      31\n",
       "4          5      72\n",
       "5          6      37\n",
       "6          7      37\n",
       "7          8      29\n",
       "8          9      77\n",
       "9         10      84\n",
       "10        11      55\n",
       "11        12      55\n",
       "12        13      74\n",
       "13        14      26\n",
       "14        15      38\n",
       "15        16      38\n",
       "16        17      44\n",
       "17        18      71\n",
       "18        19      59\n",
       "19        20      35\n",
       "20        21      47\n",
       "21        22      29\n",
       "22        23      53\n",
       "23        24      57\n",
       "24        25      37\n",
       "25        26      32\n",
       "26        27      63\n",
       "27        28      41\n",
       "28        29      25\n",
       "29        30      61\n",
       "30        31      28"
      ]
     },
     "execution_count": 80,
     "metadata": {},
     "output_type": "execute_result"
    }
   ],
   "source": [
    "data = pd.read_csv(\"data_iuh.csv\")\n",
    "data"
   ]
  },
  {
   "cell_type": "code",
   "execution_count": 81,
   "metadata": {},
   "outputs": [
    {
     "data": {
      "text/plain": [
       "sales_mobile       49.064516\n",
       "sales_fashion      36.387097\n",
       "sales_groceries    12.709677\n",
       "Unnamed: 4               NaN\n",
       "dtype: float64"
      ]
     },
     "execution_count": 81,
     "metadata": {},
     "output_type": "execute_result"
    }
   ],
   "source": [
    "df.mean()"
   ]
  },
  {
   "cell_type": "markdown",
   "metadata": {},
   "source": [
    "# xử lí dữ liệu với hạng mục mobile"
   ]
  },
  {
   "cell_type": "code",
   "execution_count": 82,
   "metadata": {},
   "outputs": [],
   "source": [
    "N = data.shape[0]"
   ]
  },
  {
   "cell_type": "code",
   "execution_count": 83,
   "metadata": {},
   "outputs": [],
   "source": [
    "x = data[\"datetime\"]"
   ]
  },
  {
   "cell_type": "code",
   "execution_count": 84,
   "metadata": {},
   "outputs": [],
   "source": [
    "y = data[\"mobile\"]"
   ]
  },
  {
   "cell_type": "code",
   "execution_count": 85,
   "metadata": {},
   "outputs": [
    {
     "data": {
      "text/plain": [
       "Text(0.5, 1.0, 'Doanh thu sản phẩm Mobile trong tháng')"
      ]
     },
     "execution_count": 85,
     "metadata": {},
     "output_type": "execute_result"
    },
    {
     "data": {
      "image/png": "[encoded data removed]",
      "text/plain": [
       "<Figure size 432x288 with 1 Axes>"
      ]
     },
     "metadata": {
      "needs_background": "light"
     },
     "output_type": "display_data"
    }
   ],
   "source": [
    "plt.scatter(x,y)\n",
    "plt.xlabel(\"Ngày\")\n",
    "plt.ylabel(\"Số lượng\")\n",
    "plt.title(\"Doanh thu sản phẩm Mobile trong tháng\")"
   ]
  },
  {
   "cell_type": "code",
   "execution_count": 86,
   "metadata": {},
   "outputs": [
    {
     "data": {
      "text/plain": [
       "array([ 1,  2,  3,  4,  5,  6,  7,  8,  9, 10, 11, 12, 13, 14, 15, 16, 17,\n",
       "       18, 19, 20, 21, 22, 23, 24, 25, 26, 27, 28, 29, 30, 31],\n",
       "      dtype=int64)"
      ]
     },
     "execution_count": 86,
     "metadata": {},
     "output_type": "execute_result"
    }
   ],
   "source": [
    "# lấy giá trị của date gắn cho biến x\n",
    "X = data.values[:, 0]\n",
    "X"
   ]
  },
  {
   "cell_type": "code",
   "execution_count": 87,
   "metadata": {},
   "outputs": [
    {
     "data": {
      "text/plain": [
       "array([31, 65,  9, 31, 72, 37, 37, 29, 77, 84, 55, 55, 74, 26, 38, 38, 44,\n",
       "       71, 59, 35, 47, 29, 53, 57, 37, 32, 63, 41, 25, 61, 28],\n",
       "      dtype=int64)"
      ]
     },
     "execution_count": 87,
     "metadata": {},
     "output_type": "execute_result"
    }
   ],
   "source": [
    "# lấy giá trị của biến mobile gắn cho biến y\n",
    "y = data.values[:, 1]\n",
    "y"
   ]
  },
  {
   "cell_type": "markdown",
   "metadata": {},
   "source": [
    "# phương trình đồ thị của thuật toán linear regression: y= mx + b\n",
    "# x là biến không phụ thuộc\n",
    "# y là biến phụ thuộc\n",
    "# m(weight), b(bias) chính là cái để \"học\" cải thiện hàm số"
   ]
  },
  {
   "cell_type": "code",
   "execution_count": 88,
   "metadata": {
    "scrolled": true
   },
   "outputs": [
    {
     "data": {
      "image/png": "[encoded data removed]",
      "text/plain": [
       "<Figure size 432x288 with 1 Axes>"
      ]
     },
     "metadata": {
      "needs_background": "light"
     },
     "output_type": "display_data"
    }
   ],
   "source": [
    "plt.scatter(X, y, marker='o')\n",
    "plt.xlabel(\"Datetime\")\n",
    "plt.ylabel(\"Sales\")\n",
    "plt.title(\"Doanh thu của mặt hàng Mobile trong tháng 5\")\n",
    "plt.show();"
   ]
  },
  {
   "cell_type": "code",
   "execution_count": 89,
   "metadata": {},
   "outputs": [
    {
     "name": "stdout",
     "output_type": "stream",
     "text": [
      "-4.5029082869076476\n",
      "-0.23747123345085286\n",
      "[5332.579921801459, 8113.424012134253, 10364.541596470119, 12052.26770416636, 13266.811005999469, 14120.137068877568, 14710.88717057075, 15116.036481339903, 15392.210023831987, 15579.714688648446, 15706.681891896606, 15792.505094005719, 15850.448708902642, 15889.53848154908, 15915.8951341148, 15933.660023010525, 15945.631027519788, 15953.696477843518, 15959.129975499069, 15962.79012307823, 15965.255573827553, 15966.916229794426, 15968.034774418256, 15968.788165422737, 15969.295603612392, 15969.637380669703, 15969.867578204745, 15970.022622963012, 15970.127049915201, 15970.19738427003, 15970.24475630082, 15970.276662584434, 15970.298152279522, 15970.312626132616, 15970.32237463681, 15970.328940498774, 15970.333362771022, 15970.336341281805, 15970.33834738311, 15970.339698542348, 15970.340608581748, 15970.341221515955, 15970.341634342394, 15970.341912391279, 15970.342099664136, 15970.342225797061, 15970.342310750724, 15970.342367969135, 15970.342406507156, 15970.34243246347, 15970.342449945694, 15970.342461720405, 15970.34246965097, 15970.342474992402, 15970.342478589982, 15970.34248101305, 15970.342482645041, 15970.342483744236, 15970.342484484569, 15970.342484983195]\n",
      "Giá trị dự đoán\n",
      "31.28288677490268\n"
     ]
    },
    {
     "data": {
      "image/png": "[encoded data removed]",
      "text/plain": [
       "<Figure size 432x288 with 1 Axes>"
      ]
     },
     "metadata": {
      "needs_background": "light"
     },
     "output_type": "display_data"
    }
   ],
   "source": [
    "# tạo các hàm để thuật toán \"học\"\n",
    "def equation(new_date, m, b): # đưa các tham số vào chương trình\n",
    "    return m*new_date + b\n",
    "# tạo hàm lỗi\n",
    "def cost_function(X, y, m, b): # đưa các tham số của hàm số mất mát trong linear regression\n",
    "    n = len(X)\n",
    "    error = 0\n",
    "    for i in range(n):\n",
    "        error += (y[i] - (m*X[i] + b))**2\n",
    "        \n",
    "    return error/n\n",
    "\n",
    "def update(X, y, m, b, learning_rate): # đạo hàm của linear regression\n",
    "    n = len(X)\n",
    "    m_update = 0.0\n",
    "    b_update = 0.0\n",
    "    for i in range(n):\n",
    "        m_update += -2*X[i]*(y[i] - (X[i]*m + b))\n",
    "        b_update += -2*(y[i] - (X[i]*m + b))\n",
    "    m = (m_update/n)*learning_rate\n",
    "    b = (b_update/n)*learning_rate\n",
    "    return m, b\n",
    "\n",
    "def train(X, y, m, b, learning_rate, iter):\n",
    "    cost_hist = []\n",
    "    for i in range(iter):\n",
    "        m , b = update(X, y, m, b, learning_rate)\n",
    "        cost = cost_function(X, y, m, b)\n",
    "        cost_hist.append(cost)\n",
    "    return m ,b, cost_hist\n",
    "m , b, cost = train(X, y, 0.03, 0.0014, 0.001, 60)\n",
    "print(m)\n",
    "print(b)\n",
    "print(cost)\n",
    "print(\"Giá trị dự đoán\")\n",
    "print(equation(-7, m, b))\n",
    "\n",
    "solanlap = [i for i in range(60)]\n",
    "plt.plot(solanlap, cost)\n",
    "plt.show()\n",
    "        "
   ]
  },
  {
   "cell_type": "markdown",
   "metadata": {},
   "source": [
    "# xử lí dữ liệu với hạng mục fashion"
   ]
  },
  {
   "cell_type": "code",
   "execution_count": 90,
   "metadata": {},
   "outputs": [],
   "source": [
    "x = data['datetime']\n",
    "y = df['sales_fashion']"
   ]
  },
  {
   "cell_type": "code",
   "execution_count": 91,
   "metadata": {},
   "outputs": [
    {
     "data": {
      "text/plain": [
       "array([ 1,  2,  3,  4,  5,  6,  7,  8,  9, 10, 11, 12, 13, 14, 15, 16, 17,\n",
       "       18, 19, 20, 21, 22, 23, 24, 25, 26, 27, 28, 29, 30, 31],\n",
       "      dtype=int64)"
      ]
     },
     "execution_count": 91,
     "metadata": {},
     "output_type": "execute_result"
    }
   ],
   "source": [
    "X = data.values[:, 0]\n",
    "X"
   ]
  },
  {
   "cell_type": "code",
   "execution_count": 92,
   "metadata": {},
   "outputs": [
    {
     "data": {
      "text/plain": [
       "array([18.0, 42.0, 29.0, 48.0, 22.0, 43.0, 31.0, 45.0, 47.0, 39.0, 49.0,\n",
       "       13.0, 33.0, 53.0, 48.0, 31.0, 20.0, 23.0, 59.0, 19.0, 37.0, 46.0,\n",
       "       28.0, 43.0, 30.0, 51.0, 49.0, 20.0, 50.0, 16.0, 46.0, nan, nan,\n",
       "       nan, nan, nan, nan, nan, nan, nan, nan, nan, nan, nan, nan, nan,\n",
       "       nan, nan, nan, nan, nan, nan, nan, nan, nan, nan, nan, nan, nan,\n",
       "       nan, nan, nan, nan, nan], dtype=object)"
      ]
     },
     "execution_count": 92,
     "metadata": {},
     "output_type": "execute_result"
    }
   ],
   "source": [
    "y = df.values[:, 2]\n",
    "y"
   ]
  },
  {
   "cell_type": "code",
   "execution_count": 93,
   "metadata": {},
   "outputs": [
    {
     "data": {
      "text/html": [
       "<div>\n",
       "<style scoped>\n",
       "    .dataframe tbody tr th:only-of-type {\n",
       "        vertical-align: middle;\n",
       "    }\n",
       "\n",
       "    .dataframe tbody tr th {\n",
       "        vertical-align: top;\n",
       "    }\n",
       "\n",
       "    .dataframe thead th {\n",
       "        text-align: right;\n",
       "    }\n",
       "</style>\n",
       "<table border=\"1\" class=\"dataframe\">\n",
       "  <thead>\n",
       "    <tr style=\"text-align: right;\">\n",
       "      <th></th>\n",
       "      <th>datetime</th>\n",
       "      <th>sales_mobile</th>\n",
       "      <th>sales_fashion</th>\n",
       "      <th>sales_groceries</th>\n",
       "      <th>Unnamed: 4</th>\n",
       "    </tr>\n",
       "  </thead>\n",
       "  <tbody>\n",
       "    <tr>\n",
       "      <th>0</th>\n",
       "      <td>5/1/20</td>\n",
       "      <td>31.0</td>\n",
       "      <td>18.0</td>\n",
       "      <td>13.0</td>\n",
       "      <td>NaN</td>\n",
       "    </tr>\n",
       "    <tr>\n",
       "      <th>1</th>\n",
       "      <td>5/2/20</td>\n",
       "      <td>65.0</td>\n",
       "      <td>42.0</td>\n",
       "      <td>9.0</td>\n",
       "      <td>NaN</td>\n",
       "    </tr>\n",
       "    <tr>\n",
       "      <th>2</th>\n",
       "      <td>5/3/20</td>\n",
       "      <td>90.0</td>\n",
       "      <td>29.0</td>\n",
       "      <td>19.0</td>\n",
       "      <td>NaN</td>\n",
       "    </tr>\n",
       "    <tr>\n",
       "      <th>3</th>\n",
       "      <td>5/4/20</td>\n",
       "      <td>31.0</td>\n",
       "      <td>48.0</td>\n",
       "      <td>18.0</td>\n",
       "      <td>NaN</td>\n",
       "    </tr>\n",
       "    <tr>\n",
       "      <th>4</th>\n",
       "      <td>5/5/20</td>\n",
       "      <td>72.0</td>\n",
       "      <td>22.0</td>\n",
       "      <td>19.0</td>\n",
       "      <td>NaN</td>\n",
       "    </tr>\n",
       "    <tr>\n",
       "      <th>...</th>\n",
       "      <td>...</td>\n",
       "      <td>...</td>\n",
       "      <td>...</td>\n",
       "      <td>...</td>\n",
       "      <td>...</td>\n",
       "    </tr>\n",
       "    <tr>\n",
       "      <th>59</th>\n",
       "      <td>NaN</td>\n",
       "      <td>NaN</td>\n",
       "      <td>NaN</td>\n",
       "      <td>NaN</td>\n",
       "      <td>NaN</td>\n",
       "    </tr>\n",
       "    <tr>\n",
       "      <th>60</th>\n",
       "      <td>NaN</td>\n",
       "      <td>NaN</td>\n",
       "      <td>NaN</td>\n",
       "      <td>NaN</td>\n",
       "      <td>NaN</td>\n",
       "    </tr>\n",
       "    <tr>\n",
       "      <th>61</th>\n",
       "      <td>NaN</td>\n",
       "      <td>NaN</td>\n",
       "      <td>NaN</td>\n",
       "      <td>NaN</td>\n",
       "      <td>NaN</td>\n",
       "    </tr>\n",
       "    <tr>\n",
       "      <th>62</th>\n",
       "      <td>NaN</td>\n",
       "      <td>NaN</td>\n",
       "      <td>NaN</td>\n",
       "      <td>NaN</td>\n",
       "      <td>NaN</td>\n",
       "    </tr>\n",
       "    <tr>\n",
       "      <th>63</th>\n",
       "      <td>NaN</td>\n",
       "      <td>NaN</td>\n",
       "      <td>NaN</td>\n",
       "      <td>NaN</td>\n",
       "      <td>NaN</td>\n",
       "    </tr>\n",
       "  </tbody>\n",
       "</table>\n",
       "<p>64 rows × 5 columns</p>\n",
       "</div>"
      ],
      "text/plain": [
       "   datetime  sales_mobile  sales_fashion  sales_groceries  Unnamed: 4\n",
       "0    5/1/20          31.0           18.0             13.0         NaN\n",
       "1    5/2/20          65.0           42.0              9.0         NaN\n",
       "2    5/3/20          90.0           29.0             19.0         NaN\n",
       "3    5/4/20          31.0           48.0             18.0         NaN\n",
       "4    5/5/20          72.0           22.0             19.0         NaN\n",
       "..      ...           ...            ...              ...         ...\n",
       "59      NaN           NaN            NaN              NaN         NaN\n",
       "60      NaN           NaN            NaN              NaN         NaN\n",
       "61      NaN           NaN            NaN              NaN         NaN\n",
       "62      NaN           NaN            NaN              NaN         NaN\n",
       "63      NaN           NaN            NaN              NaN         NaN\n",
       "\n",
       "[64 rows x 5 columns]"
      ]
     },
     "execution_count": 93,
     "metadata": {},
     "output_type": "execute_result"
    }
   ],
   "source": [
    "df"
   ]
  },
  {
   "cell_type": "code",
   "execution_count": 94,
   "metadata": {},
   "outputs": [
    {
     "data": {
      "text/html": [
       "<div>\n",
       "<style scoped>\n",
       "    .dataframe tbody tr th:only-of-type {\n",
       "        vertical-align: middle;\n",
       "    }\n",
       "\n",
       "    .dataframe tbody tr th {\n",
       "        vertical-align: top;\n",
       "    }\n",
       "\n",
       "    .dataframe thead th {\n",
       "        text-align: right;\n",
       "    }\n",
       "</style>\n",
       "<table border=\"1\" class=\"dataframe\">\n",
       "  <thead>\n",
       "    <tr style=\"text-align: right;\">\n",
       "      <th></th>\n",
       "      <th>datetime</th>\n",
       "      <th>sales_mobile</th>\n",
       "      <th>sales_fashion</th>\n",
       "      <th>sales_groceries</th>\n",
       "      <th>Unnamed: 4</th>\n",
       "    </tr>\n",
       "  </thead>\n",
       "  <tbody>\n",
       "    <tr>\n",
       "      <th>0</th>\n",
       "      <td>5/1/20</td>\n",
       "      <td>31.0</td>\n",
       "      <td>18.0</td>\n",
       "      <td>13.0</td>\n",
       "      <td>NaN</td>\n",
       "    </tr>\n",
       "    <tr>\n",
       "      <th>1</th>\n",
       "      <td>5/2/20</td>\n",
       "      <td>65.0</td>\n",
       "      <td>42.0</td>\n",
       "      <td>9.0</td>\n",
       "      <td>NaN</td>\n",
       "    </tr>\n",
       "    <tr>\n",
       "      <th>2</th>\n",
       "      <td>5/3/20</td>\n",
       "      <td>90.0</td>\n",
       "      <td>29.0</td>\n",
       "      <td>19.0</td>\n",
       "      <td>NaN</td>\n",
       "    </tr>\n",
       "    <tr>\n",
       "      <th>3</th>\n",
       "      <td>5/4/20</td>\n",
       "      <td>31.0</td>\n",
       "      <td>48.0</td>\n",
       "      <td>18.0</td>\n",
       "      <td>NaN</td>\n",
       "    </tr>\n",
       "    <tr>\n",
       "      <th>4</th>\n",
       "      <td>5/5/20</td>\n",
       "      <td>72.0</td>\n",
       "      <td>22.0</td>\n",
       "      <td>19.0</td>\n",
       "      <td>NaN</td>\n",
       "    </tr>\n",
       "    <tr>\n",
       "      <th>5</th>\n",
       "      <td>5/6/20</td>\n",
       "      <td>37.0</td>\n",
       "      <td>43.0</td>\n",
       "      <td>16.0</td>\n",
       "      <td>NaN</td>\n",
       "    </tr>\n",
       "    <tr>\n",
       "      <th>6</th>\n",
       "      <td>5/7/20</td>\n",
       "      <td>37.0</td>\n",
       "      <td>31.0</td>\n",
       "      <td>16.0</td>\n",
       "      <td>NaN</td>\n",
       "    </tr>\n",
       "    <tr>\n",
       "      <th>7</th>\n",
       "      <td>5/8/20</td>\n",
       "      <td>29.0</td>\n",
       "      <td>45.0</td>\n",
       "      <td>7.0</td>\n",
       "      <td>NaN</td>\n",
       "    </tr>\n",
       "    <tr>\n",
       "      <th>8</th>\n",
       "      <td>5/9/20</td>\n",
       "      <td>77.0</td>\n",
       "      <td>47.0</td>\n",
       "      <td>6.0</td>\n",
       "      <td>NaN</td>\n",
       "    </tr>\n",
       "    <tr>\n",
       "      <th>9</th>\n",
       "      <td>5/10/20</td>\n",
       "      <td>84.0</td>\n",
       "      <td>39.0</td>\n",
       "      <td>7.0</td>\n",
       "      <td>NaN</td>\n",
       "    </tr>\n",
       "    <tr>\n",
       "      <th>10</th>\n",
       "      <td>5/11/20</td>\n",
       "      <td>55.0</td>\n",
       "      <td>49.0</td>\n",
       "      <td>8.0</td>\n",
       "      <td>NaN</td>\n",
       "    </tr>\n",
       "    <tr>\n",
       "      <th>11</th>\n",
       "      <td>5/12/20</td>\n",
       "      <td>55.0</td>\n",
       "      <td>13.0</td>\n",
       "      <td>8.0</td>\n",
       "      <td>NaN</td>\n",
       "    </tr>\n",
       "    <tr>\n",
       "      <th>12</th>\n",
       "      <td>5/13/20</td>\n",
       "      <td>74.0</td>\n",
       "      <td>33.0</td>\n",
       "      <td>12.0</td>\n",
       "      <td>NaN</td>\n",
       "    </tr>\n",
       "    <tr>\n",
       "      <th>13</th>\n",
       "      <td>5/14/20</td>\n",
       "      <td>26.0</td>\n",
       "      <td>53.0</td>\n",
       "      <td>6.0</td>\n",
       "      <td>NaN</td>\n",
       "    </tr>\n",
       "    <tr>\n",
       "      <th>14</th>\n",
       "      <td>5/15/20</td>\n",
       "      <td>38.0</td>\n",
       "      <td>48.0</td>\n",
       "      <td>11.0</td>\n",
       "      <td>NaN</td>\n",
       "    </tr>\n",
       "    <tr>\n",
       "      <th>15</th>\n",
       "      <td>5/16/20</td>\n",
       "      <td>38.0</td>\n",
       "      <td>31.0</td>\n",
       "      <td>18.0</td>\n",
       "      <td>NaN</td>\n",
       "    </tr>\n",
       "    <tr>\n",
       "      <th>16</th>\n",
       "      <td>5/17/20</td>\n",
       "      <td>44.0</td>\n",
       "      <td>20.0</td>\n",
       "      <td>7.0</td>\n",
       "      <td>NaN</td>\n",
       "    </tr>\n",
       "    <tr>\n",
       "      <th>17</th>\n",
       "      <td>5/18/20</td>\n",
       "      <td>71.0</td>\n",
       "      <td>23.0</td>\n",
       "      <td>19.0</td>\n",
       "      <td>NaN</td>\n",
       "    </tr>\n",
       "    <tr>\n",
       "      <th>18</th>\n",
       "      <td>5/19/20</td>\n",
       "      <td>59.0</td>\n",
       "      <td>59.0</td>\n",
       "      <td>19.0</td>\n",
       "      <td>NaN</td>\n",
       "    </tr>\n",
       "    <tr>\n",
       "      <th>19</th>\n",
       "      <td>5/20/20</td>\n",
       "      <td>35.0</td>\n",
       "      <td>19.0</td>\n",
       "      <td>17.0</td>\n",
       "      <td>NaN</td>\n",
       "    </tr>\n",
       "    <tr>\n",
       "      <th>20</th>\n",
       "      <td>5/21/20</td>\n",
       "      <td>47.0</td>\n",
       "      <td>37.0</td>\n",
       "      <td>17.0</td>\n",
       "      <td>NaN</td>\n",
       "    </tr>\n",
       "    <tr>\n",
       "      <th>21</th>\n",
       "      <td>5/22/20</td>\n",
       "      <td>29.0</td>\n",
       "      <td>46.0</td>\n",
       "      <td>6.0</td>\n",
       "      <td>NaN</td>\n",
       "    </tr>\n",
       "    <tr>\n",
       "      <th>22</th>\n",
       "      <td>5/23/20</td>\n",
       "      <td>53.0</td>\n",
       "      <td>28.0</td>\n",
       "      <td>19.0</td>\n",
       "      <td>NaN</td>\n",
       "    </tr>\n",
       "    <tr>\n",
       "      <th>23</th>\n",
       "      <td>5/24/20</td>\n",
       "      <td>57.0</td>\n",
       "      <td>43.0</td>\n",
       "      <td>12.0</td>\n",
       "      <td>NaN</td>\n",
       "    </tr>\n",
       "    <tr>\n",
       "      <th>24</th>\n",
       "      <td>5/25/20</td>\n",
       "      <td>37.0</td>\n",
       "      <td>30.0</td>\n",
       "      <td>5.0</td>\n",
       "      <td>NaN</td>\n",
       "    </tr>\n",
       "    <tr>\n",
       "      <th>25</th>\n",
       "      <td>5/26/20</td>\n",
       "      <td>32.0</td>\n",
       "      <td>51.0</td>\n",
       "      <td>12.0</td>\n",
       "      <td>NaN</td>\n",
       "    </tr>\n",
       "    <tr>\n",
       "      <th>26</th>\n",
       "      <td>5/27/20</td>\n",
       "      <td>63.0</td>\n",
       "      <td>49.0</td>\n",
       "      <td>15.0</td>\n",
       "      <td>NaN</td>\n",
       "    </tr>\n",
       "    <tr>\n",
       "      <th>27</th>\n",
       "      <td>5/28/20</td>\n",
       "      <td>41.0</td>\n",
       "      <td>20.0</td>\n",
       "      <td>5.0</td>\n",
       "      <td>NaN</td>\n",
       "    </tr>\n",
       "    <tr>\n",
       "      <th>28</th>\n",
       "      <td>5/29/20</td>\n",
       "      <td>25.0</td>\n",
       "      <td>50.0</td>\n",
       "      <td>14.0</td>\n",
       "      <td>NaN</td>\n",
       "    </tr>\n",
       "    <tr>\n",
       "      <th>29</th>\n",
       "      <td>5/30/20</td>\n",
       "      <td>61.0</td>\n",
       "      <td>16.0</td>\n",
       "      <td>15.0</td>\n",
       "      <td>NaN</td>\n",
       "    </tr>\n",
       "    <tr>\n",
       "      <th>30</th>\n",
       "      <td>5/31/20</td>\n",
       "      <td>28.0</td>\n",
       "      <td>46.0</td>\n",
       "      <td>19.0</td>\n",
       "      <td>NaN</td>\n",
       "    </tr>\n",
       "  </tbody>\n",
       "</table>\n",
       "</div>"
      ],
      "text/plain": [
       "   datetime  sales_mobile  sales_fashion  sales_groceries  Unnamed: 4\n",
       "0    5/1/20          31.0           18.0             13.0         NaN\n",
       "1    5/2/20          65.0           42.0              9.0         NaN\n",
       "2    5/3/20          90.0           29.0             19.0         NaN\n",
       "3    5/4/20          31.0           48.0             18.0         NaN\n",
       "4    5/5/20          72.0           22.0             19.0         NaN\n",
       "5    5/6/20          37.0           43.0             16.0         NaN\n",
       "6    5/7/20          37.0           31.0             16.0         NaN\n",
       "7    5/8/20          29.0           45.0              7.0         NaN\n",
       "8    5/9/20          77.0           47.0              6.0         NaN\n",
       "9   5/10/20          84.0           39.0              7.0         NaN\n",
       "10  5/11/20          55.0           49.0              8.0         NaN\n",
       "11  5/12/20          55.0           13.0              8.0         NaN\n",
       "12  5/13/20          74.0           33.0             12.0         NaN\n",
       "13  5/14/20          26.0           53.0              6.0         NaN\n",
       "14  5/15/20          38.0           48.0             11.0         NaN\n",
       "15  5/16/20          38.0           31.0             18.0         NaN\n",
       "16  5/17/20          44.0           20.0              7.0         NaN\n",
       "17  5/18/20          71.0           23.0             19.0         NaN\n",
       "18  5/19/20          59.0           59.0             19.0         NaN\n",
       "19  5/20/20          35.0           19.0             17.0         NaN\n",
       "20  5/21/20          47.0           37.0             17.0         NaN\n",
       "21  5/22/20          29.0           46.0              6.0         NaN\n",
       "22  5/23/20          53.0           28.0             19.0         NaN\n",
       "23  5/24/20          57.0           43.0             12.0         NaN\n",
       "24  5/25/20          37.0           30.0              5.0         NaN\n",
       "25  5/26/20          32.0           51.0             12.0         NaN\n",
       "26  5/27/20          63.0           49.0             15.0         NaN\n",
       "27  5/28/20          41.0           20.0              5.0         NaN\n",
       "28  5/29/20          25.0           50.0             14.0         NaN\n",
       "29  5/30/20          61.0           16.0             15.0         NaN\n",
       "30  5/31/20          28.0           46.0             19.0         NaN"
      ]
     },
     "execution_count": 94,
     "metadata": {},
     "output_type": "execute_result"
    }
   ],
   "source": [
    "df = df.head(31)\n",
    "df"
   ]
  },
  {
   "cell_type": "code",
   "execution_count": 95,
   "metadata": {},
   "outputs": [],
   "source": [
    "y = df[\"sales_fashion\"]\n",
    "y = df.values[:, 2]"
   ]
  },
  {
   "cell_type": "code",
   "execution_count": 96,
   "metadata": {},
   "outputs": [
    {
     "data": {
      "text/plain": [
       "array([18.0, 42.0, 29.0, 48.0, 22.0, 43.0, 31.0, 45.0, 47.0, 39.0, 49.0,\n",
       "       13.0, 33.0, 53.0, 48.0, 31.0, 20.0, 23.0, 59.0, 19.0, 37.0, 46.0,\n",
       "       28.0, 43.0, 30.0, 51.0, 49.0, 20.0, 50.0, 16.0, 46.0], dtype=object)"
      ]
     },
     "execution_count": 96,
     "metadata": {},
     "output_type": "execute_result"
    }
   ],
   "source": [
    "y"
   ]
  },
  {
   "cell_type": "code",
   "execution_count": 97,
   "metadata": {},
   "outputs": [
    {
     "data": {
      "text/plain": [
       "<bound method DataFrame.info of    datetime  sales_mobile  sales_fashion  sales_groceries  Unnamed: 4\n",
       "0    5/1/20          31.0           18.0             13.0         NaN\n",
       "1    5/2/20          65.0           42.0              9.0         NaN\n",
       "2    5/3/20          90.0           29.0             19.0         NaN\n",
       "3    5/4/20          31.0           48.0             18.0         NaN\n",
       "4    5/5/20          72.0           22.0             19.0         NaN\n",
       "5    5/6/20          37.0           43.0             16.0         NaN\n",
       "6    5/7/20          37.0           31.0             16.0         NaN\n",
       "7    5/8/20          29.0           45.0              7.0         NaN\n",
       "8    5/9/20          77.0           47.0              6.0         NaN\n",
       "9   5/10/20          84.0           39.0              7.0         NaN\n",
       "10  5/11/20          55.0           49.0              8.0         NaN\n",
       "11  5/12/20          55.0           13.0              8.0         NaN\n",
       "12  5/13/20          74.0           33.0             12.0         NaN\n",
       "13  5/14/20          26.0           53.0              6.0         NaN\n",
       "14  5/15/20          38.0           48.0             11.0         NaN\n",
       "15  5/16/20          38.0           31.0             18.0         NaN\n",
       "16  5/17/20          44.0           20.0              7.0         NaN\n",
       "17  5/18/20          71.0           23.0             19.0         NaN\n",
       "18  5/19/20          59.0           59.0             19.0         NaN\n",
       "19  5/20/20          35.0           19.0             17.0         NaN\n",
       "20  5/21/20          47.0           37.0             17.0         NaN\n",
       "21  5/22/20          29.0           46.0              6.0         NaN\n",
       "22  5/23/20          53.0           28.0             19.0         NaN\n",
       "23  5/24/20          57.0           43.0             12.0         NaN\n",
       "24  5/25/20          37.0           30.0              5.0         NaN\n",
       "25  5/26/20          32.0           51.0             12.0         NaN\n",
       "26  5/27/20          63.0           49.0             15.0         NaN\n",
       "27  5/28/20          41.0           20.0              5.0         NaN\n",
       "28  5/29/20          25.0           50.0             14.0         NaN\n",
       "29  5/30/20          61.0           16.0             15.0         NaN\n",
       "30  5/31/20          28.0           46.0             19.0         NaN>"
      ]
     },
     "execution_count": 97,
     "metadata": {},
     "output_type": "execute_result"
    }
   ],
   "source": [
    "df.info"
   ]
  },
  {
   "cell_type": "code",
   "execution_count": 98,
   "metadata": {},
   "outputs": [
    {
     "name": "stdout",
     "output_type": "stream",
     "text": [
      "<class 'pandas.core.frame.DataFrame'>\n",
      "RangeIndex: 31 entries, 0 to 30\n",
      "Data columns (total 5 columns):\n",
      " #   Column           Non-Null Count  Dtype  \n",
      "---  ------           --------------  -----  \n",
      " 0   datetime         31 non-null     object \n",
      " 1   sales_mobile     31 non-null     float64\n",
      " 2   sales_fashion    31 non-null     float64\n",
      " 3   sales_groceries  31 non-null     float64\n",
      " 4   Unnamed: 4       0 non-null      float64\n",
      "dtypes: float64(4), object(1)\n",
      "memory usage: 1.3+ KB\n"
     ]
    }
   ],
   "source": [
    "df.info()"
   ]
  },
  {
   "cell_type": "code",
   "execution_count": 99,
   "metadata": {},
   "outputs": [
    {
     "name": "stdout",
     "output_type": "stream",
     "text": [
      "<class 'pandas.core.frame.DataFrame'>\n",
      "RangeIndex: 31 entries, 0 to 30\n",
      "Data columns (total 2 columns):\n",
      " #   Column    Non-Null Count  Dtype\n",
      "---  ------    --------------  -----\n",
      " 0   datetime  31 non-null     int64\n",
      " 1   mobile    31 non-null     int64\n",
      "dtypes: int64(2)\n",
      "memory usage: 624.0 bytes\n"
     ]
    }
   ],
   "source": [
    "data.info()"
   ]
  },
  {
   "cell_type": "code",
   "execution_count": 100,
   "metadata": {},
   "outputs": [
    {
     "name": "stdout",
     "output_type": "stream",
     "text": [
      "-3.609278048674694\n",
      "-0.1886483878788888\n",
      "[3307.9630633422616, 5095.612751741696, 6543.376033957406, 7629.048374694336, 8410.43319779977, 8959.468551075199, 9339.579203941687, 9600.275471204866, 9777.984946168779, 9898.640245777018, 9980.341691575293, 10035.56793227762, 10072.85412837628, 10098.008113287375, 10114.968458244935, 10126.400069518808, 10134.103353325505, 10139.293434633484, 10142.789867422136, 10145.145157509667, 10146.731665307945, 10147.800290969019, 10148.520070141893, 10149.004874386668, 10149.331408942124, 10149.55134119066, 10149.699472439357, 10149.79924315967, 10149.866441512133, 10149.911701406152, 10149.942185130712, 10149.962716704878, 10149.976545243315, 10149.985859113662, 10149.992132239662, 10149.996357347292, 10149.999203062955, 10150.001119723507, 10150.002410642199, 10150.003280108116, 10150.00386571507, 10150.00426013594, 10150.004525788212, 10150.004704711633, 10150.004825221013, 10150.004906387076, 10150.004961054447, 10150.004997874275, 10150.005022673347, 10150.005039376143, 10150.005050625889, 10150.005058202876, 10150.00506330617, 10150.005066743353, 10150.005069058387, 10150.005070617617, 10150.005071667803, 10150.005072375123, 10150.005072851527, 10150.00507317239]\n",
      "Giá trị dự đoán\n",
      "25.07629795284397\n"
     ]
    },
    {
     "data": {
      "image/png": "[encoded data removed]",
      "text/plain": [
       "<Figure size 432x288 with 1 Axes>"
      ]
     },
     "metadata": {
      "needs_background": "light"
     },
     "output_type": "display_data"
    }
   ],
   "source": [
    "# tạo các hàm để thuật toán \"học\"\n",
    "def equation(new_date, m, b): # đưa các tham số vào chương trình\n",
    "    return m*new_date + b\n",
    "# tạo hàm lỗi\n",
    "def cost_function(X, y, m, b): # đưa các tham số của hàm số mất mát trong linear regression\n",
    "    n = len(X)\n",
    "    error = 0\n",
    "    for i in range(n):\n",
    "        error += (y[i] - (m*X[i] + b))**2\n",
    "        \n",
    "    return error/n\n",
    "\n",
    "def update(X, y, m, b, learning_rate): # đạo hàm của linear regression\n",
    "    n = len(X)\n",
    "    m_update = 0.0\n",
    "    b_update = 0.0\n",
    "    for i in range(n):\n",
    "        m_update += -2*X[i]*(y[i] - (X[i]*m + b))\n",
    "        b_update += -2*(y[i] - (X[i]*m + b))\n",
    "    m = (m_update/n)*learning_rate\n",
    "    b = (b_update/n)*learning_rate\n",
    "    return m, b\n",
    "\n",
    "def train(X, y, m, b, learning_rate, iter):\n",
    "    cost_hist = []\n",
    "    for i in range(iter):\n",
    "        m , b = update(X, y, m, b, learning_rate)\n",
    "        cost = cost_function(X, y, m, b)\n",
    "        cost_hist.append(cost)\n",
    "    return m ,b, cost_hist\n",
    "m , b, cost = train(X, y, 0.03, 0.0014, 0.001, 60)\n",
    "print(m)\n",
    "print(b)\n",
    "print(cost)\n",
    "print(\"Giá trị dự đoán\")\n",
    "print(equation(-7, m, b))\n",
    "\n",
    "solanlap = [i for i in range(60)]\n",
    "plt.plot(solanlap, cost)\n",
    "plt.show()"
   ]
  },
  {
   "cell_type": "markdown",
   "metadata": {},
   "source": [
    "# xử lí dữ liệu với groceries"
   ]
  },
  {
   "cell_type": "code",
   "execution_count": 101,
   "metadata": {},
   "outputs": [],
   "source": [
    "x = data[\"datetime\"]\n",
    "y = df[\"sales_groceries\"]\n"
   ]
  },
  {
   "cell_type": "code",
   "execution_count": 102,
   "metadata": {},
   "outputs": [],
   "source": [
    "X = data.values[:, 0]\n",
    "y = df.values[:, 3]"
   ]
  },
  {
   "cell_type": "code",
   "execution_count": 103,
   "metadata": {},
   "outputs": [
    {
     "data": {
      "text/plain": [
       "array([13.0, 9.0, 19.0, 18.0, 19.0, 16.0, 16.0, 7.0, 6.0, 7.0, 8.0, 8.0,\n",
       "       12.0, 6.0, 11.0, 18.0, 7.0, 19.0, 19.0, 17.0, 17.0, 6.0, 19.0,\n",
       "       12.0, 5.0, 12.0, 15.0, 5.0, 14.0, 15.0, 19.0], dtype=object)"
      ]
     },
     "execution_count": 103,
     "metadata": {},
     "output_type": "execute_result"
    }
   ],
   "source": [
    "y"
   ]
  },
  {
   "cell_type": "code",
   "execution_count": 104,
   "metadata": {},
   "outputs": [
    {
     "name": "stdout",
     "output_type": "stream",
     "text": [
      "-1.2501012265171163\n",
      "-0.06555370148923473\n",
      "[396.2525631712031, 611.9440986500941, 787.3743248389184, 919.2110700373313, 1014.2121916883258, 1081.01298102966, 1127.2820367860909, 1159.0247182028754, 1180.6670047940333, 1195.3628392179048, 1205.314929989354, 1212.0424436766675, 1216.5847205638909, 1219.649105600565, 1221.715335371265, 1223.1080314544374, 1224.04651821367, 1224.6788261950587, 1225.1047983410238, 1225.3917451781147, 1225.5850309721852, 1225.715222818519, 1225.8029143742294, 1225.8619786825348, 1225.901760809317, 1225.9285554451872, 1225.9466024732244, 1225.9587576746533, 1225.9669445411207, 1225.9724586156744, 1225.9761724894838, 1225.9786738792648, 1225.980358629052, 1225.9814933506507, 1225.9822576141994, 1225.982772364862, 1225.9831190623083, 1225.983352571696, 1225.983509846093, 1225.9836157743202, 1225.9836871196196, 1225.9837351724557, 1225.9837675372373, 1225.9837893357235, 1225.9838040175464, 1225.9838139061203, 1225.9838205663204, 1225.9838250521311, 1225.9838280734364, 1225.9838301083605, 1225.9838314789329, 1225.9838324020475, 1225.9838330237878, 1225.9838334425447, 1225.9838337245887, 1225.9838339145522, 1225.9838340424974, 1225.9838341286718, 1225.9838341867126, 1225.9838342258042]\n",
      "Giá trị dự đoán\n",
      "8.68515488413058\n"
     ]
    },
    {
     "data": {
      "image/png": "[encoded data removed]",
      "text/plain": [
       "<Figure size 432x288 with 1 Axes>"
      ]
     },
     "metadata": {
      "needs_background": "light"
     },
     "output_type": "display_data"
    }
   ],
   "source": [
    "# tạo các hàm để thuật toán \"học\"\n",
    "def equation(new_date, m, b): # đưa các tham số vào chương trình\n",
    "    return m*new_date + b\n",
    "# tạo hàm lỗi\n",
    "def cost_function(X, y, m, b): # đưa các tham số của hàm số mất mát trong linear regression\n",
    "    n = len(X)\n",
    "    error = 0\n",
    "    for i in range(n):\n",
    "        error += (y[i] - (m*X[i] + b))**2\n",
    "        \n",
    "    return error/n\n",
    "\n",
    "def update(X, y, m, b, learning_rate): # đạo hàm của linear regression\n",
    "    n = len(X)\n",
    "    m_update = 0.0\n",
    "    b_update = 0.0\n",
    "    for i in range(n):\n",
    "        m_update += -2*X[i]*(y[i] - (X[i]*m + b))\n",
    "        b_update += -2*(y[i] - (X[i]*m + b))\n",
    "    m = (m_update/n)*learning_rate\n",
    "    b = (b_update/n)*learning_rate\n",
    "    return m, b\n",
    "\n",
    "def train(X, y, m, b, learning_rate, iter):\n",
    "    cost_hist = []\n",
    "    for i in range(iter):\n",
    "        m , b = update(X, y, m, b, learning_rate)\n",
    "        cost = cost_function(X, y, m, b)\n",
    "        cost_hist.append(cost)\n",
    "    return m ,b, cost_hist\n",
    "m , b, cost = train(X, y, 0.03, 0.0014, 0.001, 60)\n",
    "print(m)\n",
    "print(b)\n",
    "print(cost)\n",
    "print(\"Giá trị dự đoán\")\n",
    "print(equation(-7, m, b))\n",
    "\n",
    "solanlap = [i for i in range(60)]\n",
    "plt.plot(solanlap, cost)\n",
    "plt.show()"
   ]
  },
  {
   "cell_type": "code",
   "execution_count": 105,
   "metadata": {},
   "outputs": [],
   "source": [
    "# tổng kết cho ngày 1/6:\n",
    "# -sales_mobile : 31\n",
    "# -sales_fashion: 25\n",
    "# -sales_groceries: 9"
   ]
  }
 ],
 "metadata": {
  "kernelspec": {
   "display_name": "Python 3",
   "language": "python",
   "name": "python3"
  },
  "language_info": {
   "codemirror_mode": {
    "name": "ipython",
    "version": 3
   },
   "file_extension": ".py",
   "mimetype": "text/x-python",
   "name": "python",
   "nbconvert_exporter": "python",
   "pygments_lexer": "ipython3",
   "version": "3.7.6"
  }
 },
 "nbformat": 4,
 "nbformat_minor": 4
}
